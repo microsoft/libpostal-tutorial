{
 "metadata": {
  "language_info": {
   "codemirror_mode": {
    "name": "ipython",
    "version": 3
   },
   "file_extension": ".py",
   "mimetype": "text/x-python",
   "name": "python",
   "nbconvert_exporter": "python",
   "pygments_lexer": "ipython3",
   "version": "3.8.1-final"
  },
  "orig_nbformat": 2,
  "kernelspec": {
   "name": "python38164bit3812e5ab71b3ff94d57b7e37fd1221b0d15",
   "display_name": "Python 3.8.1 64-bit ('3.8.1')"
  }
 },
 "nbformat": 4,
 "nbformat_minor": 2,
 "cells": [
  {
   "source": [
    "# libpostal Tutorial\n",
    "\n",
    "Our pre-built vertical analyzers ([receipt](https://docs.microsoft.com/en-us/azure/cognitive-services/form-recognizer/concept-receipts) and [business card](https://docs.microsoft.com/en-us/azure/cognitive-services/form-recognizer/concept-business-cards)) of the [Form Recegnizer](https://azure.microsoft.com/en-us/services/cognitive-services/form-recognizer/) service extract document information including addresses from documents. The addresses are raw texts, but we sometimes want more detailed address information such as street names, cities and ZIP Codes.\n",
    "\n",
    "We can easily utilize the open source tool _libpostal_ to parse the structured information from the full addresses. The core library of _libpostal_ is written in C while it supports language binding for Python, Ruby, Java, PHP and NodeJS.\n",
    "\n",
    "This tutorial demonstrates how to use the _libpostal_ Python binding to get the structured information from analyzed results.\n",
    "\n",
    "### Reference\n",
    "\n",
    "* libpostal - https://github.com/openvenues/libpostal"
   ],
   "cell_type": "markdown",
   "metadata": {}
  },
  {
   "source": [
    "## Installation\n",
    "\n",
    "### Python 3\n",
    "\n",
    "Install Python 3.4 or above (as _libpostal_ suggested).\n",
    "\n",
    "### libpostal\n",
    "\n",
    "Please follow the instructions [here](https://github.com/openvenues/libpostal#installation-windows) to install _libpostal_ on Windows. If you're using MacOS or Ubuntu, please refer to the instructions [here](https://github.com/openvenues/libpostal#installation-maclinux). After you installed the dependencies and compile _libpostal_, please run the following command to install _libpostal_ Python package."
   ],
   "cell_type": "markdown",
   "metadata": {}
  },
  {
   "cell_type": "code",
   "execution_count": 1,
   "metadata": {},
   "outputs": [
    {
     "output_type": "stream",
     "name": "stdout",
     "text": [
      "Requirement already satisfied: postal in /usr/lib/python3.8/site-packages (1.1.9)\n",
      "Requirement already satisfied: six in /usr/lib/python3.8/site-packages (from postal) (1.15.0)\n",
      "\u001b[33mWARNING: You are using pip version 19.2.3, however version 20.2.3 is available.\n",
      "You should consider upgrading via the 'pip install --upgrade pip' command.\u001b[0m\n",
      "Note: you may need to restart the kernel to use updated packages.\n"
     ]
    }
   ],
   "source": [
    "# You only need to execute this cell once.\n",
    "# If both Python 2 and Python 3 are on your machine, please try with `pip3 install postal`.\n",
    "# If an permission error occurs, please try to run it as administrator. \n",
    "#  - On Windows, open the Command Prompt as Administrator, and then do `pip install postal` or `pip3 install postal`. \n",
    "#  - On MacOS or Ubuntu, try `sudo pip install postal` or `sudo pip3 install postal`.\n",
    "# After running this command, please restart your IPython kernel.\n",
    "\n",
    "%pip install postal"
   ]
  },
  {
   "source": [
    "## Get Started\n",
    "\n",
    "Execute the following cell. _libpostal_ is installed successfully if you see the following output.\n",
    "\n",
    "```python\n",
    "[('the book club', 'house'),\n",
    " ('100-106', 'house_number'),\n",
    " ('leonard st', 'road'),\n",
    " ('shoreditch', 'suburb'),\n",
    " ('london', 'city'),\n",
    " ('ec2a 4rh', 'postcode'),\n",
    " ('united kingdom', 'country')]\n",
    "```"
   ],
   "cell_type": "markdown",
   "metadata": {}
  },
  {
   "cell_type": "code",
   "execution_count": 2,
   "metadata": {},
   "outputs": [
    {
     "output_type": "execute_result",
     "data": {
      "text/plain": [
       "[('the book club', 'house'),\n",
       " ('100-106', 'house_number'),\n",
       " ('leonard st', 'road'),\n",
       " ('shoreditch', 'suburb'),\n",
       " ('london', 'city'),\n",
       " ('ec2a 4rh', 'postcode'),\n",
       " ('united kingdom', 'country')]"
      ]
     },
     "metadata": {},
     "execution_count": 2
    }
   ],
   "source": [
    "from postal.parser import parse_address\n",
    "parse_address('The Book Club 100-106 Leonard St Shoreditch London EC2A 4RH, United Kingdom')"
   ]
  },
  {
   "source": [
    "## Parse Address from Analyze Result of Business Cards\n",
    "\n",
    "Here is an en-US sample business card image of Chris Smith from Cloud & AI Department in Contoso. The address is \"4001 1st Ave NE Redmond, WA 98052\". The json file `samples/bizcard_regular_en_us.json` is the analyze result of the image `samples/bizcard_regular_en_us.jpg` by calling the `pre-built businessCard v2.1.1 API`.\n",
    "\n",
    "![Business Card Sample](samples/bizcard_regular_en_us.small.jpg)\n",
    "\n",
    "The following script parses the extracted addresses and print them out."
   ],
   "cell_type": "markdown",
   "metadata": {}
  },
  {
   "cell_type": "code",
   "execution_count": 3,
   "metadata": {},
   "outputs": [
    {
     "output_type": "stream",
     "name": "stdout",
     "text": [
      "Full address:\t 4001 1st Ave NE Redmond, WA 98052\nParsed address:\t [('4001', 'house_number'), ('1st ave ne', 'road'), ('redmond', 'city'), ('wa', 'state'), ('98052', 'postcode')]\n"
     ]
    }
   ],
   "source": [
    "import json\n",
    "from postal.parser import parse_address\n",
    "\n",
    "# Load the analyze result\n",
    "with open('samples/bizcard_regular_en_us.json') as fp:\n",
    "    data = json.load(fp)\n",
    "\n",
    "addresses = data['analyzeResult']['documentResults'][0]['fields']['Addresses']\n",
    "for address in addresses['valueArray']:\n",
    "    # Get the full address\n",
    "    full_address = address['valueString']\n",
    "    # Parse the address\n",
    "    parsed_address = parse_address(full_address)\n",
    "    print('Full address:\\t', full_address)\n",
    "    print('Parsed address:\\t', parsed_address)"
   ]
  },
  {
   "cell_type": "code",
   "execution_count": null,
   "metadata": {},
   "outputs": [],
   "source": []
  }
 ]
}